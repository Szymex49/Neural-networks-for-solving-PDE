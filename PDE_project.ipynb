Solving Partial Differential Equations with Neural Networks
Authors: Szymon Malec (262276) & Damian Szuster (262229)
1. Introduction
Partial differential equations (PDE) appear in numerous fields of science i.a. in mathematics, physics or chemistry. Their task is to describe change of some quantities by using derivatives of given function. Unfortunately, most of them do not have analytical solution. Thus, lots of numerical methods have been derived. One of them, perhaps less known, is solving PDEs with a help of neural networks. That is the main topic of our report.

This assignment consists of five parts. The first one includes some theory about neural networks. The second chapter describes partaial differential equations and model parameters chosen for the simulations. Chapters 4 and 5 contain method implementation in Python programming language and analysis of three of its properties: consistency, convergence and stability. After all of these parts some conclusions will be drawn.

2. Neural networks
Aby edytować zawartość komórki, kliknij ją dwukrotnie (lub naciśnij klawisz Enter)

3. Model parametrization and choice of equations
3.1. Parameters
3.2. Equations
To check the quality of our model we have chosen two partial differential equations: wave and Burgers equation. The choice of them is not random: we would like to consider models that have (wave) or do not have (Burgers) analytical solution.

Let us begin with the wave equation. It is a second-order linear PDE applied to model wavelike phenomena, e.g. small-amplitude oscilations near equilibrium. In this project we will consider the wave equation in one space dimension:

∂2g∂t2=c2∂2g∂x2,

where c is wave speed. Additionally, some initial conditions are given:

g(x,0)=ϕ(x),
gt(x,0)=ψ(x).

It is also possible in many ways to describe other boundary conditions. In our case we will use Dirichlet condition. It describes how endpoints of our wave move:

g(0,t)=μ(t),

g(N,t)=ν(t).

We say that endpoints are fixed when μ=ν=0.

The other equation we will use in simulations is Burgers' equation which is one of the fundamental PDEs. This convection-diffusion equation describes phenomena occuring in traffic flow, fluid dynamics etc. As in previous case, we are going to consider Burgers' equation in one space dimension:

∂g∂t+g∂g∂x=ν∂2g∂x2,

where ν is a diffusion coeficient. The initial conditions are described in similar form as in wave equation

4. Implementation
Aby edytować zawartość komórki, kliknij ją dwukrotnie (lub naciśnij klawisz Enter)

5. Properties
5.1. Consistency
Aby edytować zawartość komórki, kliknij ją dwukrotnie (lub naciśnij klawisz Enter)

5.2. Convergence
Aby edytować zawartość komórki, kliknij ją dwukrotnie (lub naciśnij klawisz Enter)

5.3. Stability
Aby edytować zawartość komórki, kliknij ją dwukrotnie (lub naciśnij klawisz Enter)

6. Conclusion
Aby edytować zawartość komórki, kliknij ją dwukrotnie (lub naciśnij klawisz Enter)

7. Bibliography
      "execution_count": null,
      "outputs": []
    }
  ]
}
