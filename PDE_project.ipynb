{
  "nbformat": 4,
  "nbformat_minor": 0,
  "metadata": {
    "colab": {
      "provenance": []
    },
    "kernelspec": {
      "name": "python3",
      "display_name": "Python 3"
    },
    "language_info": {
      "name": "python"
    }
  },
  "cells": [
    {
      "cell_type": "markdown",
      "source": [
        "# Solving Partial Differential Equations with Neural Networks\n",
        "\n",
        "##### Authors: Szymon Malec (262276) & Damian Szuster (262229)"
      ],
      "metadata": {
        "id": "-ahkiD46XM02"
      }
    },
    {
      "cell_type": "markdown",
      "source": [
        "## 1. Introduction"
      ],
      "metadata": {
        "id": "K9rjF2r-YBGQ"
      }
    },
    {
      "cell_type": "markdown",
      "source": [
        "Partial differential equations (PDE) appear in numerous fields of science i.a. in mathematics, physics or chemistry. Their task is to describe change of some quantities by using derivatives of given function. Unfortunately, most of them do not have analytical solution. Thus, lots of numerical methods have been derived. One of them, perhaps less known, is solving PDEs with a help of neural networks. That is the main topic of our report.\n",
        "\n",
        "This assignment consists of five parts. The first one includes some theory about neural networks. The second chapter describes partaial differential equations and model parameters chosen for the simulations. Chapters 4 and 5 contain method implementation in Python programming language and analysis of three of its properties: consistency, convergence and stability. After all of these parts some conclusions will be drawn.\n",
        "\n"
      ],
      "metadata": {
        "id": "ej9hgKtnYFoH"
      }
    },
    {
      "cell_type": "markdown",
      "source": [
        "## 2. Neural networks"
      ],
      "metadata": {
        "id": "6D_wXf-oYHIX"
      }
    },
    {
      "cell_type": "markdown",
      "source": [],
      "metadata": {
        "id": "p7wbDnjOfVar"
      }
    },
    {
      "cell_type": "markdown",
      "source": [
        "## 3. Model parametrization and choice of equations"
      ],
      "metadata": {
        "id": "pBvkmlzpfWqL"
      }
    },
    {
      "cell_type": "markdown",
      "source": [
        "#### 3.1. Parameters"
      ],
      "metadata": {
        "id": "ZNLZbO1gCJD3"
      }
    },
    {
      "cell_type": "markdown",
      "source": [
        "#### 3.2. Equations\n",
        "\n",
        "To check the quality of our model we have chosen two partial differential equations: wave and Burgers equation. The choice of them is not random: we would like to consider models that have (wave) or do not have (Burgers) analytical solution.\n",
        "\n",
        "Let us begin with the wave equation. It is a second-order linear PDE applied to model wavelike phenomena, e.g. small-amplitude oscilations near equilibrium. In this project we will consider the wave equation in one space dimension:\n",
        "\n",
        "$$\n",
        "\\frac{\\partial^{2}g}{\\partial t^{2}} = c^{2}\\frac{\\partial^{2}g}{\\partial x^{2}},\n",
        "$$\n",
        "\n",
        "where $c$ is wave speed. Additionally, some initial conditions are given:\n",
        "\n",
        "$$\n",
        "g(x,0)=\\phi(x),\n",
        "$$\n",
        "$$\n",
        "g_{t}(x,0)=\\psi(x).\n",
        "$$\n",
        "\n",
        "It is also possible in many ways to describe other boundary conditions. In our case we will use Dirichlet condition. It describes how endpoints of our wave move:\n",
        "\n",
        "$$\n",
        "g(0,t) = \\mu(t),\n",
        "$$\n",
        "\n",
        "$$\n",
        "g(N,t) = \\nu(t).\n",
        "$$\n",
        "\n",
        "We say that endpoints are fixed when $\\mu = \\nu = 0.$\n",
        "\n",
        "The other equation we will use in simulations is Burgers' equation which is one of the fundamental PDEs. This convection-diffusion equation describes phenomena occuring in traffic flow, fluid dynamics etc. As in previous case, we are going to consider Burgers' equation in one space dimension:\n",
        "\n",
        "$$\n",
        "\\frac{\\partial g}{\\partial t} + g \\frac{\\partial g}{\\partial x} = \\nu \\frac{\\partial^{2} g}{\\partial x^{2}},\n",
        "$$\n",
        "\n",
        "where $\\nu$ is a diffusion coeficient. The initial conditions are described in similar form as in wave equation"
      ],
      "metadata": {
        "id": "CghJmaU7fjzY"
      }
    },
    {
      "cell_type": "markdown",
      "source": [
        "## 4. Implementation"
      ],
      "metadata": {
        "id": "5jVItWvqfkCQ"
      }
    },
    {
      "cell_type": "markdown",
      "source": [],
      "metadata": {
        "id": "8EMxpzFXfpw7"
      }
    },
    {
      "cell_type": "markdown",
      "source": [
        "## 5. Properties"
      ],
      "metadata": {
        "id": "O4ACpZQQfqEr"
      }
    },
    {
      "cell_type": "markdown",
      "source": [
        "#### 5.1. Consistency"
      ],
      "metadata": {
        "id": "5uWXPrOefsmf"
      }
    },
    {
      "cell_type": "markdown",
      "source": [],
      "metadata": {
        "id": "9MxMUWxHfs4M"
      }
    },
    {
      "cell_type": "markdown",
      "source": [
        "#### 5.2. Convergence"
      ],
      "metadata": {
        "id": "RVyBcQtKftKf"
      }
    },
    {
      "cell_type": "markdown",
      "source": [],
      "metadata": {
        "id": "3_8yFLsVftZB"
      }
    },
    {
      "cell_type": "markdown",
      "source": [
        "#### 5.3. Stability"
      ],
      "metadata": {
        "id": "9c3-mnP7ftrN"
      }
    },
    {
      "cell_type": "markdown",
      "source": [],
      "metadata": {
        "id": "5oIL2E0Vft4g"
      }
    },
    {
      "cell_type": "markdown",
      "source": [
        "## 6. Conclusion"
      ],
      "metadata": {
        "id": "KjrnWZ07gTtU"
      }
    },
    {
      "cell_type": "markdown",
      "source": [],
      "metadata": {
        "id": "_rMmNIoOgaNa"
      }
    },
    {
      "cell_type": "markdown",
      "source": [
        "## 7. Bibliography"
      ],
      "metadata": {
        "id": "AGhyQspICkUO"
      }
    },
    {
      "cell_type": "code",
      "source": [],
      "metadata": {
        "id": "GPoZwdRYCl0U"
      },
      "execution_count": null,
      "outputs": []
    }
  ]
}