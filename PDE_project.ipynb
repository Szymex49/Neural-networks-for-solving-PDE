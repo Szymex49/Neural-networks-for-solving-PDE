{
  "nbformat": 4,
  "nbformat_minor": 0,
  "metadata": {
    "colab": {
      "provenance": []
    },
    "kernelspec": {
      "name": "python3",
      "display_name": "Python 3"
    },
    "language_info": {
      "name": "python"
    }
  },
  "cells": [
    {
      "cell_type": "markdown",
      "source": [
        "# Solving Partial Differential Equations with Neural Networks\n",
        "\n",
        "##### Authors: Szymon Malec (262276) & Damian Szuster (262229)"
      ],
      "metadata": {
        "id": "-ahkiD46XM02"
      }
    },
    {
      "cell_type": "markdown",
      "source": [
        "## 1. Introduction"
      ],
      "metadata": {
        "id": "K9rjF2r-YBGQ"
      }
    },
    {
      "cell_type": "markdown",
      "source": [
        "\n",
        "\n"
      ],
      "metadata": {
        "id": "ej9hgKtnYFoH"
      }
    },
    {
      "cell_type": "markdown",
      "source": [
        "## 2. Neural networks"
      ],
      "metadata": {
        "id": "6D_wXf-oYHIX"
      }
    },
    {
      "cell_type": "markdown",
      "source": [],
      "metadata": {
        "id": "p7wbDnjOfVar"
      }
    },
    {
      "cell_type": "markdown",
      "source": [
        "## 3. Model parametrization and choice of equations"
      ],
      "metadata": {
        "id": "pBvkmlzpfWqL"
      }
    },
    {
      "cell_type": "markdown",
      "source": [],
      "metadata": {
        "id": "CghJmaU7fjzY"
      }
    },
    {
      "cell_type": "markdown",
      "source": [
        "## 4. Implementation"
      ],
      "metadata": {
        "id": "5jVItWvqfkCQ"
      }
    },
    {
      "cell_type": "markdown",
      "source": [],
      "metadata": {
        "id": "8EMxpzFXfpw7"
      }
    },
    {
      "cell_type": "markdown",
      "source": [
        "## 5. Properties"
      ],
      "metadata": {
        "id": "O4ACpZQQfqEr"
      }
    },
    {
      "cell_type": "markdown",
      "source": [
        "#### 5.1. Consistency"
      ],
      "metadata": {
        "id": "5uWXPrOefsmf"
      }
    },
    {
      "cell_type": "markdown",
      "source": [],
      "metadata": {
        "id": "9MxMUWxHfs4M"
      }
    },
    {
      "cell_type": "markdown",
      "source": [
        "#### 5.2. Convergence"
      ],
      "metadata": {
        "id": "RVyBcQtKftKf"
      }
    },
    {
      "cell_type": "markdown",
      "source": [],
      "metadata": {
        "id": "3_8yFLsVftZB"
      }
    },
    {
      "cell_type": "markdown",
      "source": [
        "#### 5.3. Stability"
      ],
      "metadata": {
        "id": "9c3-mnP7ftrN"
      }
    },
    {
      "cell_type": "markdown",
      "source": [],
      "metadata": {
        "id": "5oIL2E0Vft4g"
      }
    },
    {
      "cell_type": "markdown",
      "source": [
        "## 6. Conclusion"
      ],
      "metadata": {
        "id": "KjrnWZ07gTtU"
      }
    },
    {
      "cell_type": "markdown",
      "source": [],
      "metadata": {
        "id": "_rMmNIoOgaNa"
      }
    },
    {
      "cell_type": "code",
      "source": [],
      "metadata": {
        "id": "rIoxI3s9YEcP"
      },
      "execution_count": null,
      "outputs": []
    }
  ]
}